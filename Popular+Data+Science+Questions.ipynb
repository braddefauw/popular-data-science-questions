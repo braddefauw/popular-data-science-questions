{
 "cells": [
  {
   "cell_type": "markdown",
   "metadata": {},
   "source": [
    "# Popular Data Science Questions"
   ]
  },
  {
   "cell_type": "markdown",
   "metadata": {},
   "source": [
    "## Stack Exchange"
   ]
  },
  {
   "cell_type": "markdown",
   "metadata": {},
   "source": [
    "### What kind of questions are welcome on this site?\n",
    "\n",
    "From their help's center's section on [asking questions](https://datascience.stackexchange.com/help/dont-ask):\n",
    "\n",
    "\"First, make sure that your question is [on-topic for this site](https://datascience.stackexchange.com/help/on-topic).\n",
    "\n",
    "You should only ask practical, answerable questions based on actual problems that you face. Chatty, open-ended questions diminish the usefulness of our site and push other questions off the front page.\n",
    "\n",
    "Your questions should be reasonably scoped. If you can imagine an entire book that answers your question, you’re asking too much.\n",
    "\n",
    "If your motivation for asking the question is “I would like to participate in a discussion about ____________”, then you should not be asking here. However, if your motivation is “I would like others to explain ____________ to me”, then you are probably OK. (Discussions are of course welcome in our real time web chat.)\n",
    "\n",
    "**To prevent your question from being flagged and possibly removed, *avoid* asking subjective questions where …**\n",
    "\n",
    "* every answer is equally valid: “What’s your favorite ____________?”\n",
    "* your answer is provided along with the question, and you expect more answers: “I use ____________ for ____________, what do you use?”\n",
    "* there is no actual problem to be solved: “I’m curious if other people feel like I do.”\n",
    "* you are asking an open-ended, hypothetical question: “What if ____________ happened?”\n",
    "* your question is just a rant in disguise: “____________ sucks, am I right?”\n",
    "(The above section was adapted from MetaFilter’s FAQ.)\n",
    "\n",
    "**Some subjective questions are allowed, but “subjective” does not mean “anything goes”. All subjective questions are expected to be *constructive.*** What does that mean? Constructive subjective questions:\n",
    "\n",
    "* inspire answers that explain “why” and “how”\n",
    "* tend to have long, not short, answers\n",
    "* have a constructive, fair, and impartial tone\n",
    "* invite sharing experiences over opinions\n",
    "* insist that opinion be backed up with facts and references\n",
    "* are more than just mindless social fun\n",
    "\n",
    "For more detail, read about our [guidelines for great subjective questions](https://blog.stackoverflow.com/2010/09/good-subjective-bad-subjective/) and blog post about how [real questions have answers](https://blog.stackoverflow.com/2011/01/real-questions-have-answers/).\n",
    "\n",
    "If your question is about the site itself, please don't ask it here. Visit our meta-discussion site, where you can talk about things like what questions are appropriate, what tags should be used, suggest a feature, point out a bug, or generally discuss how this site works.\""
   ]
  },
  {
   "cell_type": "markdown",
   "metadata": {},
   "source": [
    "### What, other than questions, does the site's home subdivide into?\n",
    "\n",
    "![Data Science Stack Exchange Home](https://i.imgur.com/1OUUMRk.png)\n",
    "\n",
    "We can see from this image that we have four sections:\n",
    "\n",
    "* Questions - these are all the questions asked\n",
    "* Tags - a list of tags (keywords or labels that categorize questoins)\n",
    "* Users - a list of users\n",
    "* Unanswered - a list of unanswered questions\n",
    "\n",
    "Tags allows us to quantify how many questions are aksed about each subject, which may be helpful for us in our analysis."
   ]
  },
  {
   "cell_type": "markdown",
   "metadata": {},
   "source": [
    "### What information is available in each post?\n",
    "\n",
    "In [any question](https://datascience.stackexchange.com/questions/64197/where-to-start-in-natural-language-processing-for-a-language), we can see the following information:\n",
    "\n",
    "- The post's score\n",
    "- The post's title\n",
    "- The post's author\n",
    "- The post's body\n",
    "- When the question was asked\n",
    "- When the question was answered (if applicable)\n",
    "- How many users \"upvoted\" the question\n",
    "- Related Questions\n",
    "- Hot Network Questions\n",
    "- How many times the question has been viewed\n",
    "- When the question was last modified"
   ]
  },
  {
   "cell_type": "markdown",
   "metadata": {},
   "source": [
    "## Stack Exchange Data Explorer\n",
    "\n",
    "In investigating a few of the tables, some stand out as a bit more promising:\n",
    "\n",
    "- Posts\n",
    "- PostTags\n",
    "- Tags\n",
    "- TagSynonyms\n",
    "\n",
    "Writing a few queries, the `Posts` table seems more promising in finding hte popular content. At first, `Tags` seemed very promising, but it does not allow us to see if the interest in these tags is recent or not, despite telling us how many times each tag was used.\n",
    "\n",
    "![Tags Query](https://i.imgur.com/lQ0g2gf.png)"
   ]
  },
  {
   "cell_type": "markdown",
   "metadata": {
    "collapsed": true
   },
   "source": [
    "## Getting the Data\n",
    "\n",
    "To extract the relevant columns for all the questions in 2019 we will run the following query.\n",
    "\n",
    "```\n",
    "SELECT Id, PostTypeId, CreationDate, Score, ViewCount, Tags, AnswerCount, FavoriteCount\n",
    "  FROM posts\n",
    "  WHERE PostTypeId = 1 AND year(CreationDate) = 2019\n",
    "```\n",
    "\n",
    "The first few rows are shown in the image below\n",
    "\n",
    "![Getting the Data Image](https://i.imgur.com/erZsxSN.png)"
   ]
  },
  {
   "cell_type": "markdown",
   "metadata": {},
   "source": [
    "## Exploring the Data"
   ]
  },
  {
   "cell_type": "code",
   "execution_count": 1,
   "metadata": {
    "collapsed": false
   },
   "outputs": [
    {
     "name": "stdout",
     "output_type": "stream",
     "text": [
      "<class 'pandas.core.frame.DataFrame'>\n",
      "RangeIndex: 8839 entries, 0 to 8838\n",
      "Data columns (total 7 columns):\n",
      "Id               8839 non-null int64\n",
      "CreationDate     8839 non-null datetime64[ns]\n",
      "Score            8839 non-null int64\n",
      "ViewCount        8839 non-null int64\n",
      "Tags             8839 non-null object\n",
      "AnswerCount      8839 non-null int64\n",
      "FavoriteCount    1407 non-null float64\n",
      "dtypes: datetime64[ns](1), float64(1), int64(4), object(1)\n",
      "memory usage: 483.5+ KB\n"
     ]
    }
   ],
   "source": [
    "import pandas as pd\n",
    "import matplotlib.pyplot as plt\n",
    "import seaborn as sns\n",
    "\n",
    "%matplotlib inline\n",
    "df = pd.read_csv('2019_questions.csv', parse_dates=['CreationDate'])\n",
    "df.info()"
   ]
  },
  {
   "cell_type": "markdown",
   "metadata": {},
   "source": [
    "#### How many missing values are there in each column?\n",
    "Only FavoriteCount has missing values - 7,432 to be exact.\n",
    "\n",
    "#### Can we fix the missing values somehow?\n",
    "A missing FavoriteCount likely indicates that a user did not favorite this question, so we can replace with a 0.\n",
    "\n",
    "#### Are the types of each column adequate?\n",
    "These seem adequate, although we can probably change FavoriteCount to an `int` from `float`.\n",
    "\n",
    "#### What can we do about the `Tags` column?\n",
    "We can probably separate each `Tags` column into separate columns for each tag listed - or, we can just keep them as a list."
   ]
  },
  {
   "cell_type": "markdown",
   "metadata": {},
   "source": [
    "## Cleaning the Data"
   ]
  },
  {
   "cell_type": "code",
   "execution_count": 2,
   "metadata": {
    "collapsed": false
   },
   "outputs": [],
   "source": [
    "df.fillna(value={\"FavoriteCount\": 0}, inplace=True)"
   ]
  },
  {
   "cell_type": "code",
   "execution_count": 3,
   "metadata": {
    "collapsed": false
   },
   "outputs": [
    {
     "data": {
      "text/plain": [
       "Id                        int64\n",
       "CreationDate     datetime64[ns]\n",
       "Score                     int64\n",
       "ViewCount                 int64\n",
       "Tags                     object\n",
       "AnswerCount               int64\n",
       "FavoriteCount             int64\n",
       "dtype: object"
      ]
     },
     "execution_count": 3,
     "metadata": {},
     "output_type": "execute_result"
    }
   ],
   "source": [
    "df['FavoriteCount'] = df['FavoriteCount'].astype(int)\n",
    "df.dtypes"
   ]
  },
  {
   "cell_type": "code",
   "execution_count": 4,
   "metadata": {
    "collapsed": false
   },
   "outputs": [
    {
     "data": {
      "text/html": [
       "<div>\n",
       "<style scoped>\n",
       "    .dataframe tbody tr th:only-of-type {\n",
       "        vertical-align: middle;\n",
       "    }\n",
       "\n",
       "    .dataframe tbody tr th {\n",
       "        vertical-align: top;\n",
       "    }\n",
       "\n",
       "    .dataframe thead th {\n",
       "        text-align: right;\n",
       "    }\n",
       "</style>\n",
       "<table border=\"1\" class=\"dataframe\">\n",
       "  <thead>\n",
       "    <tr style=\"text-align: right;\">\n",
       "      <th></th>\n",
       "      <th>Id</th>\n",
       "      <th>CreationDate</th>\n",
       "      <th>Score</th>\n",
       "      <th>ViewCount</th>\n",
       "      <th>Tags</th>\n",
       "      <th>AnswerCount</th>\n",
       "      <th>FavoriteCount</th>\n",
       "    </tr>\n",
       "  </thead>\n",
       "  <tbody>\n",
       "    <tr>\n",
       "      <th>5100</th>\n",
       "      <td>51330</td>\n",
       "      <td>2019-05-03 16:54:01</td>\n",
       "      <td>1</td>\n",
       "      <td>29</td>\n",
       "      <td>[naive-bayes-classifier, bayesian-networks]</td>\n",
       "      <td>1</td>\n",
       "      <td>0</td>\n",
       "    </tr>\n",
       "    <tr>\n",
       "      <th>67</th>\n",
       "      <td>55923</td>\n",
       "      <td>2019-07-18 14:19:53</td>\n",
       "      <td>-1</td>\n",
       "      <td>33</td>\n",
       "      <td>[machine-learning, linear-regression, linear-a...</td>\n",
       "      <td>1</td>\n",
       "      <td>0</td>\n",
       "    </tr>\n",
       "    <tr>\n",
       "      <th>7620</th>\n",
       "      <td>64885</td>\n",
       "      <td>2019-12-15 17:24:41</td>\n",
       "      <td>0</td>\n",
       "      <td>36</td>\n",
       "      <td>[scikit-learn, feature-selection, decision-trees]</td>\n",
       "      <td>1</td>\n",
       "      <td>0</td>\n",
       "    </tr>\n",
       "  </tbody>\n",
       "</table>\n",
       "</div>"
      ],
      "text/plain": [
       "         Id        CreationDate  Score  ViewCount  \\\n",
       "5100  51330 2019-05-03 16:54:01      1         29   \n",
       "67    55923 2019-07-18 14:19:53     -1         33   \n",
       "7620  64885 2019-12-15 17:24:41      0         36   \n",
       "\n",
       "                                                   Tags  AnswerCount  \\\n",
       "5100        [naive-bayes-classifier, bayesian-networks]            1   \n",
       "67    [machine-learning, linear-regression, linear-a...            1   \n",
       "7620  [scikit-learn, feature-selection, decision-trees]            1   \n",
       "\n",
       "      FavoriteCount  \n",
       "5100              0  \n",
       "67                0  \n",
       "7620              0  "
      ]
     },
     "execution_count": 4,
     "metadata": {},
     "output_type": "execute_result"
    }
   ],
   "source": [
    "df[\"Tags\"] = df[\"Tags\"].str.replace(\"^<|>$\", \"\").str.split(\"><\")\n",
    "df.sample(3)"
   ]
  },
  {
   "cell_type": "markdown",
   "metadata": {},
   "source": [
    "## Most Used and Most Viewed"
   ]
  },
  {
   "cell_type": "markdown",
   "metadata": {},
   "source": [
    "We will start with looking at how many times each tag was used."
   ]
  },
  {
   "cell_type": "code",
   "execution_count": 5,
   "metadata": {
    "collapsed": false
   },
   "outputs": [],
   "source": [
    "tag_count = dict()\n",
    "\n",
    "for tags in df[\"Tags\"]:\n",
    "    for tag in tags:\n",
    "        if tag in tag_count:\n",
    "            tag_count[tag] += 1\n",
    "        else:\n",
    "            tag_count[tag] = 1"
   ]
  },
  {
   "cell_type": "code",
   "execution_count": 6,
   "metadata": {
    "collapsed": false
   },
   "outputs": [
    {
     "data": {
      "text/html": [
       "<div>\n",
       "<style scoped>\n",
       "    .dataframe tbody tr th:only-of-type {\n",
       "        vertical-align: middle;\n",
       "    }\n",
       "\n",
       "    .dataframe tbody tr th {\n",
       "        vertical-align: top;\n",
       "    }\n",
       "\n",
       "    .dataframe thead th {\n",
       "        text-align: right;\n",
       "    }\n",
       "</style>\n",
       "<table border=\"1\" class=\"dataframe\">\n",
       "  <thead>\n",
       "    <tr style=\"text-align: right;\">\n",
       "      <th></th>\n",
       "      <th>Count</th>\n",
       "    </tr>\n",
       "  </thead>\n",
       "  <tbody>\n",
       "    <tr>\n",
       "      <th>ridge-regression</th>\n",
       "      <td>7</td>\n",
       "    </tr>\n",
       "    <tr>\n",
       "      <th>marketing</th>\n",
       "      <td>6</td>\n",
       "    </tr>\n",
       "    <tr>\n",
       "      <th>xgboost</th>\n",
       "      <td>165</td>\n",
       "    </tr>\n",
       "    <tr>\n",
       "      <th>library</th>\n",
       "      <td>2</td>\n",
       "    </tr>\n",
       "    <tr>\n",
       "      <th>neural-style-transfer</th>\n",
       "      <td>8</td>\n",
       "    </tr>\n",
       "    <tr>\n",
       "      <th>convnet</th>\n",
       "      <td>111</td>\n",
       "    </tr>\n",
       "    <tr>\n",
       "      <th>nosql</th>\n",
       "      <td>3</td>\n",
       "    </tr>\n",
       "    <tr>\n",
       "      <th>numpy</th>\n",
       "      <td>117</td>\n",
       "    </tr>\n",
       "    <tr>\n",
       "      <th>gaussian</th>\n",
       "      <td>20</td>\n",
       "    </tr>\n",
       "    <tr>\n",
       "      <th>tableau</th>\n",
       "      <td>9</td>\n",
       "    </tr>\n",
       "  </tbody>\n",
       "</table>\n",
       "</div>"
      ],
      "text/plain": [
       "                       Count\n",
       "ridge-regression           7\n",
       "marketing                  6\n",
       "xgboost                  165\n",
       "library                    2\n",
       "neural-style-transfer      8\n",
       "convnet                  111\n",
       "nosql                      3\n",
       "numpy                    117\n",
       "gaussian                  20\n",
       "tableau                    9"
      ]
     },
     "execution_count": 6,
     "metadata": {},
     "output_type": "execute_result"
    }
   ],
   "source": [
    "tag_count = pd.DataFrame.from_dict(tag_count, orient=\"index\")\n",
    "tag_count.rename(columns={0: \"Count\"}, inplace=True)\n",
    "tag_count.head(10)"
   ]
  },
  {
   "cell_type": "code",
   "execution_count": 7,
   "metadata": {
    "collapsed": false
   },
   "outputs": [
    {
     "data": {
      "text/html": [
       "<div>\n",
       "<style scoped>\n",
       "    .dataframe tbody tr th:only-of-type {\n",
       "        vertical-align: middle;\n",
       "    }\n",
       "\n",
       "    .dataframe tbody tr th {\n",
       "        vertical-align: top;\n",
       "    }\n",
       "\n",
       "    .dataframe thead th {\n",
       "        text-align: right;\n",
       "    }\n",
       "</style>\n",
       "<table border=\"1\" class=\"dataframe\">\n",
       "  <thead>\n",
       "    <tr style=\"text-align: right;\">\n",
       "      <th></th>\n",
       "      <th>Count</th>\n",
       "    </tr>\n",
       "  </thead>\n",
       "  <tbody>\n",
       "    <tr>\n",
       "      <th>machine-learning-model</th>\n",
       "      <td>224</td>\n",
       "    </tr>\n",
       "    <tr>\n",
       "      <th>statistics</th>\n",
       "      <td>234</td>\n",
       "    </tr>\n",
       "    <tr>\n",
       "      <th>clustering</th>\n",
       "      <td>257</td>\n",
       "    </tr>\n",
       "    <tr>\n",
       "      <th>predictive-modeling</th>\n",
       "      <td>265</td>\n",
       "    </tr>\n",
       "    <tr>\n",
       "      <th>r</th>\n",
       "      <td>268</td>\n",
       "    </tr>\n",
       "    <tr>\n",
       "      <th>dataset</th>\n",
       "      <td>340</td>\n",
       "    </tr>\n",
       "    <tr>\n",
       "      <th>regression</th>\n",
       "      <td>347</td>\n",
       "    </tr>\n",
       "    <tr>\n",
       "      <th>pandas</th>\n",
       "      <td>354</td>\n",
       "    </tr>\n",
       "    <tr>\n",
       "      <th>lstm</th>\n",
       "      <td>402</td>\n",
       "    </tr>\n",
       "    <tr>\n",
       "      <th>time-series</th>\n",
       "      <td>466</td>\n",
       "    </tr>\n",
       "    <tr>\n",
       "      <th>cnn</th>\n",
       "      <td>489</td>\n",
       "    </tr>\n",
       "    <tr>\n",
       "      <th>nlp</th>\n",
       "      <td>493</td>\n",
       "    </tr>\n",
       "    <tr>\n",
       "      <th>scikit-learn</th>\n",
       "      <td>540</td>\n",
       "    </tr>\n",
       "    <tr>\n",
       "      <th>tensorflow</th>\n",
       "      <td>584</td>\n",
       "    </tr>\n",
       "    <tr>\n",
       "      <th>classification</th>\n",
       "      <td>685</td>\n",
       "    </tr>\n",
       "    <tr>\n",
       "      <th>keras</th>\n",
       "      <td>935</td>\n",
       "    </tr>\n",
       "    <tr>\n",
       "      <th>neural-network</th>\n",
       "      <td>1055</td>\n",
       "    </tr>\n",
       "    <tr>\n",
       "      <th>deep-learning</th>\n",
       "      <td>1220</td>\n",
       "    </tr>\n",
       "    <tr>\n",
       "      <th>python</th>\n",
       "      <td>1814</td>\n",
       "    </tr>\n",
       "    <tr>\n",
       "      <th>machine-learning</th>\n",
       "      <td>2693</td>\n",
       "    </tr>\n",
       "  </tbody>\n",
       "</table>\n",
       "</div>"
      ],
      "text/plain": [
       "                        Count\n",
       "machine-learning-model    224\n",
       "statistics                234\n",
       "clustering                257\n",
       "predictive-modeling       265\n",
       "r                         268\n",
       "dataset                   340\n",
       "regression                347\n",
       "pandas                    354\n",
       "lstm                      402\n",
       "time-series               466\n",
       "cnn                       489\n",
       "nlp                       493\n",
       "scikit-learn              540\n",
       "tensorflow                584\n",
       "classification            685\n",
       "keras                     935\n",
       "neural-network           1055\n",
       "deep-learning            1220\n",
       "python                   1814\n",
       "machine-learning         2693"
      ]
     },
     "execution_count": 7,
     "metadata": {},
     "output_type": "execute_result"
    }
   ],
   "source": [
    "most_used = tag_count.sort_values(by=\"Count\").tail(20)\n",
    "most_used"
   ]
  },
  {
   "cell_type": "code",
   "execution_count": 8,
   "metadata": {
    "collapsed": false
   },
   "outputs": [
    {
     "data": {
      "text/plain": [
       "<matplotlib.axes._subplots.AxesSubplot at 0x7f52d368a2e8>"
      ]
     },
     "execution_count": 8,
     "metadata": {},
     "output_type": "execute_result"
    },
    {
     "data": {
      "image/png": "[encoded data removed]",
      "text/plain": [
       "<matplotlib.figure.Figure at 0x7f52d34aaf60>"
      ]
     },
     "metadata": {},
     "output_type": "display_data"
    }
   ],
   "source": [
    "most_used.plot(kind=\"barh\", figsize=(16,8))"
   ]
  },
  {
   "cell_type": "markdown",
   "metadata": {},
   "source": [
    "Now, we will repeat the same process for views, using panda's `pandas.DataFrame.iterrows()`"
   ]
  },
  {
   "cell_type": "code",
   "execution_count": 9,
   "metadata": {
    "collapsed": false
   },
   "outputs": [
    {
     "data": {
      "text/plain": [
       "<matplotlib.axes._subplots.AxesSubplot at 0x7f52d367a898>"
      ]
     },
     "execution_count": 9,
     "metadata": {},
     "output_type": "execute_result"
    },
    {
     "data": {
      "image/png": "[encoded data removed]",
      "text/plain": [
       "<matplotlib.figure.Figure at 0x7f52d37035f8>"
      ]
     },
     "metadata": {},
     "output_type": "display_data"
    }
   ],
   "source": [
    "view_count = dict()\n",
    "\n",
    "for index, row in df.iterrows():\n",
    "    for tag in row['Tags']:\n",
    "        if tag in view_count:\n",
    "            view_count[tag] += row['ViewCount']\n",
    "        else:\n",
    "            view_count[tag] = row['ViewCount']\n",
    "            \n",
    "view_count = pd.DataFrame.from_dict(view_count, orient=\"index\")\n",
    "view_count.rename(columns={0: \"Count\"}, inplace=True)\n",
    "\n",
    "most_viewed = view_count.sort_values(by=\"Count\").tail(20)\n",
    "\n",
    "most_viewed.plot(kind=\"barh\", figsize=(16,8))"
   ]
  },
  {
   "cell_type": "markdown",
   "metadata": {},
   "source": [
    "## Enter Domain Knowledge"
   ]
  },
  {
   "cell_type": "markdown",
   "metadata": {},
   "source": [
    "The most used tags are also the most viewed. From the top 10 tags of each, here's a list of the tags in common: `python`, `machine-learning`, `deep-learning`, `neural-network`, `keras`, `tensorflow`, `classification`, `scikit-learn`.\n",
    "\n",
    "[Keras](https://keras.io/), [scikit-learn](https://scikit-learn.org/), [TensorFlow](https://www.tensorflow.org/) are all Python libraries that allow their users to employ deep learning (a type of neural network).\n",
    "\n",
    "We can see that most of the top tags in most used and most viewed have the central theme of deep learning."
   ]
  },
  {
   "cell_type": "markdown",
   "metadata": {},
   "source": [
    "## Just a Fad?"
   ]
  },
  {
   "cell_type": "markdown",
   "metadata": {},
   "source": [
    "One thing that comes to mind is \"Is deep learning just a fad?\" Ideally, the content we decide to create will be the most useful for as long as possible. Could interest in deep learning be slowing down?\n",
    "\n",
    "In this we will track the interest in deep learning across time. We will:\n",
    "\n",
    "* Count how many deep learning questions are asked per time period.\n",
    "* The total amount of questions per time period.\n",
    "* How many deep learning questions there are relative to the total amount of questions per time period."
   ]
  },
  {
   "cell_type": "code",
   "execution_count": 10,
   "metadata": {
    "collapsed": false
   },
   "outputs": [
    {
     "name": "stdout",
     "output_type": "stream",
     "text": [
      "<class 'pandas.core.frame.DataFrame'>\n",
      "RangeIndex: 21576 entries, 0 to 21575\n",
      "Data columns (total 3 columns):\n",
      "Id              21576 non-null int64\n",
      "CreationDate    21576 non-null datetime64[ns]\n",
      "Tags            21576 non-null object\n",
      "dtypes: datetime64[ns](1), int64(1), object(1)\n",
      "memory usage: 505.8+ KB\n"
     ]
    }
   ],
   "source": [
    "all_questions = pd.read_csv('all_questions.csv', parse_dates=['CreationDate'])\n",
    "all_questions.info()"
   ]
  },
  {
   "cell_type": "code",
   "execution_count": 11,
   "metadata": {
    "collapsed": true
   },
   "outputs": [],
   "source": [
    "all_questions[\"Tags\"] = all_questions[\"Tags\"].str.replace(\"^<|>$\", \"\").str.split(\"><\")"
   ]
  },
  {
   "cell_type": "markdown",
   "metadata": {},
   "source": [
    "Before deciding which questions should be classified as being deep learning questions, we should decide what tags are deep learning tags.\n",
    "\n",
    "The definition of what constitutes a deep learning tag we'll use is: a tag that belongs to the list `[\"lstm\", \"cnn\", \"scikit-learn\", \"tensorflow\", \"keras\", \"neural-network\", \"deep-learning\"]`.\n",
    "\n",
    "This list was obtained by looking at all the tags in `most_used` and seeing which ones had any relation to deep learning. You can use Google and read the tags descriptions to reach similar results.\n",
    "\n",
    "We'll now create a function that assigns `1` to deep learning questions and `0` otherwise; and we use it."
   ]
  },
  {
   "cell_type": "code",
   "execution_count": 12,
   "metadata": {
    "collapsed": true
   },
   "outputs": [],
   "source": [
    "def class_deep_learning(tags):\n",
    "    for tag in tags:\n",
    "        if tag in [\"lstm\", \"cnn\", \"scikit-learn\", \"tensorflow\", \"keras\", \"neural-network\", \"deep-learning\"]:\n",
    "            return 1\n",
    "    return 0"
   ]
  },
  {
   "cell_type": "code",
   "execution_count": 13,
   "metadata": {
    "collapsed": false
   },
   "outputs": [
    {
     "data": {
      "text/html": [
       "<div>\n",
       "<style scoped>\n",
       "    .dataframe tbody tr th:only-of-type {\n",
       "        vertical-align: middle;\n",
       "    }\n",
       "\n",
       "    .dataframe tbody tr th {\n",
       "        vertical-align: top;\n",
       "    }\n",
       "\n",
       "    .dataframe thead th {\n",
       "        text-align: right;\n",
       "    }\n",
       "</style>\n",
       "<table border=\"1\" class=\"dataframe\">\n",
       "  <thead>\n",
       "    <tr style=\"text-align: right;\">\n",
       "      <th></th>\n",
       "      <th>Id</th>\n",
       "      <th>CreationDate</th>\n",
       "      <th>Tags</th>\n",
       "      <th>DeepLearning</th>\n",
       "    </tr>\n",
       "  </thead>\n",
       "  <tbody>\n",
       "    <tr>\n",
       "      <th>14688</th>\n",
       "      <td>62777</td>\n",
       "      <td>2019-11-06 16:26:56</td>\n",
       "      <td>[r]</td>\n",
       "      <td>0</td>\n",
       "    </tr>\n",
       "    <tr>\n",
       "      <th>8526</th>\n",
       "      <td>6847</td>\n",
       "      <td>2015-08-20 14:56:40</td>\n",
       "      <td>[machine-learning, data-mining, graphs]</td>\n",
       "      <td>0</td>\n",
       "    </tr>\n",
       "    <tr>\n",
       "      <th>9797</th>\n",
       "      <td>41816</td>\n",
       "      <td>2018-11-28 21:02:04</td>\n",
       "      <td>[machine-learning, classification, decision-tr...</td>\n",
       "      <td>0</td>\n",
       "    </tr>\n",
       "    <tr>\n",
       "      <th>13720</th>\n",
       "      <td>30834</td>\n",
       "      <td>2018-04-25 16:33:50</td>\n",
       "      <td>[machine-learning, python, neural-network, dee...</td>\n",
       "      <td>1</td>\n",
       "    </tr>\n",
       "    <tr>\n",
       "      <th>18558</th>\n",
       "      <td>64460</td>\n",
       "      <td>2019-12-09 09:24:28</td>\n",
       "      <td>[categorical-data, categorical-encoding]</td>\n",
       "      <td>0</td>\n",
       "    </tr>\n",
       "  </tbody>\n",
       "</table>\n",
       "</div>"
      ],
      "text/plain": [
       "          Id        CreationDate  \\\n",
       "14688  62777 2019-11-06 16:26:56   \n",
       "8526    6847 2015-08-20 14:56:40   \n",
       "9797   41816 2018-11-28 21:02:04   \n",
       "13720  30834 2018-04-25 16:33:50   \n",
       "18558  64460 2019-12-09 09:24:28   \n",
       "\n",
       "                                                    Tags  DeepLearning  \n",
       "14688                                                [r]             0  \n",
       "8526             [machine-learning, data-mining, graphs]             0  \n",
       "9797   [machine-learning, classification, decision-tr...             0  \n",
       "13720  [machine-learning, python, neural-network, dee...             1  \n",
       "18558           [categorical-data, categorical-encoding]             0  "
      ]
     },
     "execution_count": 13,
     "metadata": {},
     "output_type": "execute_result"
    }
   ],
   "source": [
    "all_questions['DeepLearning'] = all_questions['Tags'].apply(class_deep_learning)\n",
    "all_questions.sample(5)"
   ]
  },
  {
   "cell_type": "markdown",
   "metadata": {},
   "source": [
    "The data-science-techonology landscape isn't something as dynamic to merit daily, weekly, or even monthly tracking. Let's track it quarterly.\n",
    "\n",
    "Since we don't have all the data for the first quarter of 2020, we'll get rid of those dates:"
   ]
  },
  {
   "cell_type": "code",
   "execution_count": 14,
   "metadata": {
    "collapsed": true
   },
   "outputs": [],
   "source": [
    "all_questions = all_questions[all_questions[\"CreationDate\"].dt.year < 2020]"
   ]
  },
  {
   "cell_type": "code",
   "execution_count": 15,
   "metadata": {
    "collapsed": true
   },
   "outputs": [],
   "source": [
    "def fetch_quarter(datetime):\n",
    "    year = str(datetime.year)[-2:]\n",
    "    quarter = str(((datetime.month-1) //3) + 1)\n",
    "    return \"{y}Q{q}\".format(y=year, q=quarter)\n",
    "\n",
    "all_questions[\"Quarter\"] = all_questions[\"CreationDate\"].apply(fetch_quarter)"
   ]
  },
  {
   "cell_type": "code",
   "execution_count": 16,
   "metadata": {
    "collapsed": false
   },
   "outputs": [
    {
     "data": {
      "text/html": [
       "<div>\n",
       "<style scoped>\n",
       "    .dataframe tbody tr th:only-of-type {\n",
       "        vertical-align: middle;\n",
       "    }\n",
       "\n",
       "    .dataframe tbody tr th {\n",
       "        vertical-align: top;\n",
       "    }\n",
       "\n",
       "    .dataframe thead th {\n",
       "        text-align: right;\n",
       "    }\n",
       "</style>\n",
       "<table border=\"1\" class=\"dataframe\">\n",
       "  <thead>\n",
       "    <tr style=\"text-align: right;\">\n",
       "      <th></th>\n",
       "      <th>Id</th>\n",
       "      <th>CreationDate</th>\n",
       "      <th>Tags</th>\n",
       "      <th>DeepLearning</th>\n",
       "      <th>Quarter</th>\n",
       "    </tr>\n",
       "  </thead>\n",
       "  <tbody>\n",
       "    <tr>\n",
       "      <th>0</th>\n",
       "      <td>45416</td>\n",
       "      <td>2019-02-12 00:36:29</td>\n",
       "      <td>[python, keras, tensorflow, cnn, probability]</td>\n",
       "      <td>1</td>\n",
       "      <td>19Q1</td>\n",
       "    </tr>\n",
       "    <tr>\n",
       "      <th>1</th>\n",
       "      <td>45418</td>\n",
       "      <td>2019-02-12 00:50:39</td>\n",
       "      <td>[neural-network]</td>\n",
       "      <td>1</td>\n",
       "      <td>19Q1</td>\n",
       "    </tr>\n",
       "    <tr>\n",
       "      <th>2</th>\n",
       "      <td>45422</td>\n",
       "      <td>2019-02-12 04:40:51</td>\n",
       "      <td>[python, ibm-watson, chatbot]</td>\n",
       "      <td>0</td>\n",
       "      <td>19Q1</td>\n",
       "    </tr>\n",
       "    <tr>\n",
       "      <th>3</th>\n",
       "      <td>45426</td>\n",
       "      <td>2019-02-12 04:51:49</td>\n",
       "      <td>[keras]</td>\n",
       "      <td>1</td>\n",
       "      <td>19Q1</td>\n",
       "    </tr>\n",
       "    <tr>\n",
       "      <th>4</th>\n",
       "      <td>45427</td>\n",
       "      <td>2019-02-12 05:08:24</td>\n",
       "      <td>[r, predictive-modeling, machine-learning-mode...</td>\n",
       "      <td>0</td>\n",
       "      <td>19Q1</td>\n",
       "    </tr>\n",
       "  </tbody>\n",
       "</table>\n",
       "</div>"
      ],
      "text/plain": [
       "      Id        CreationDate  \\\n",
       "0  45416 2019-02-12 00:36:29   \n",
       "1  45418 2019-02-12 00:50:39   \n",
       "2  45422 2019-02-12 04:40:51   \n",
       "3  45426 2019-02-12 04:51:49   \n",
       "4  45427 2019-02-12 05:08:24   \n",
       "\n",
       "                                                Tags  DeepLearning Quarter  \n",
       "0      [python, keras, tensorflow, cnn, probability]             1    19Q1  \n",
       "1                                   [neural-network]             1    19Q1  \n",
       "2                      [python, ibm-watson, chatbot]             0    19Q1  \n",
       "3                                            [keras]             1    19Q1  \n",
       "4  [r, predictive-modeling, machine-learning-mode...             0    19Q1  "
      ]
     },
     "execution_count": 16,
     "metadata": {},
     "output_type": "execute_result"
    }
   ],
   "source": [
    "all_questions.head()"
   ]
  },
  {
   "cell_type": "markdown",
   "metadata": {},
   "source": [
    "For the final stretch of this screen, we'll group by quarter and:\n",
    "\n",
    "* Count the number of deep learning questions.\n",
    "* Count the total number of questions.\n",
    "* Compute the ratio between the two numbers above."
   ]
  },
  {
   "cell_type": "code",
   "execution_count": 17,
   "metadata": {
    "collapsed": false
   },
   "outputs": [
    {
     "data": {
      "text/html": [
       "<div>\n",
       "<style scoped>\n",
       "    .dataframe tbody tr th:only-of-type {\n",
       "        vertical-align: middle;\n",
       "    }\n",
       "\n",
       "    .dataframe tbody tr th {\n",
       "        vertical-align: top;\n",
       "    }\n",
       "\n",
       "    .dataframe thead th {\n",
       "        text-align: right;\n",
       "    }\n",
       "</style>\n",
       "<table border=\"1\" class=\"dataframe\">\n",
       "  <thead>\n",
       "    <tr style=\"text-align: right;\">\n",
       "      <th></th>\n",
       "      <th>Quarter</th>\n",
       "      <th>DeepLearningQuestions</th>\n",
       "      <th>TotalQuestions</th>\n",
       "      <th>DeepLearningRate</th>\n",
       "    </tr>\n",
       "  </thead>\n",
       "  <tbody>\n",
       "    <tr>\n",
       "      <th>8</th>\n",
       "      <td>16Q2</td>\n",
       "      <td>109</td>\n",
       "      <td>518</td>\n",
       "      <td>0.210425</td>\n",
       "    </tr>\n",
       "    <tr>\n",
       "      <th>7</th>\n",
       "      <td>16Q1</td>\n",
       "      <td>110</td>\n",
       "      <td>516</td>\n",
       "      <td>0.213178</td>\n",
       "    </tr>\n",
       "    <tr>\n",
       "      <th>13</th>\n",
       "      <td>17Q3</td>\n",
       "      <td>247</td>\n",
       "      <td>714</td>\n",
       "      <td>0.345938</td>\n",
       "    </tr>\n",
       "    <tr>\n",
       "      <th>0</th>\n",
       "      <td>14Q2</td>\n",
       "      <td>9</td>\n",
       "      <td>157</td>\n",
       "      <td>0.057325</td>\n",
       "    </tr>\n",
       "    <tr>\n",
       "      <th>18</th>\n",
       "      <td>18Q4</td>\n",
       "      <td>531</td>\n",
       "      <td>1294</td>\n",
       "      <td>0.410355</td>\n",
       "    </tr>\n",
       "  </tbody>\n",
       "</table>\n",
       "</div>"
      ],
      "text/plain": [
       "   Quarter  DeepLearningQuestions  TotalQuestions  DeepLearningRate\n",
       "8     16Q2                    109             518          0.210425\n",
       "7     16Q1                    110             516          0.213178\n",
       "13    17Q3                    247             714          0.345938\n",
       "0     14Q2                      9             157          0.057325\n",
       "18    18Q4                    531            1294          0.410355"
      ]
     },
     "execution_count": 17,
     "metadata": {},
     "output_type": "execute_result"
    }
   ],
   "source": [
    "quarterly = all_questions.groupby('Quarter').agg({'DeepLearning': ['sum', 'size']})\n",
    "quarterly.columns = ['DeepLearningQuestions', 'TotalQuestions']\n",
    "quarterly['DeepLearningRate'] = quarterly['DeepLearningQuestions']/quarterly['TotalQuestions']\n",
    "\n",
    "#to help with visualizations later\n",
    "quarterly.reset_index(inplace=True)\n",
    "quarterly.sample(5)"
   ]
  },
  {
   "cell_type": "code",
   "execution_count": 18,
   "metadata": {
    "collapsed": false
   },
   "outputs": [
    {
     "data": {
      "image/png": "[encoded data removed]",
      "text/plain": [
       "<matplotlib.figure.Figure at 0x7f52d08c7f60>"
      ]
     },
     "metadata": {},
     "output_type": "display_data"
    }
   ],
   "source": [
    "ax1 = quarterly.plot(x=\"Quarter\", y=\"DeepLearningRate\", kind=\"line\", linestyle=\"-\", marker=\"o\", color=\"orange\", figsize=(24,12))\n",
    "\n",
    "ax2 = quarterly.plot(x=\"Quarter\", y=\"TotalQuestions\", kind=\"bar\", ax=ax1, secondary_y=True, alpha=0.7, rot=45)\n",
    "\n",
    "for idx, t in quarterly[\"TotalQuestions\"].iteritems():\n",
    "    ax2.text(idx, t, str(t), ha=\"center\", va=\"bottom\")\n",
    "xlims = ax1.get_xlim()\n",
    "\n",
    "ax1.get_legend().remove()\n",
    "\n",
    "handles1, labels1 = ax1.get_legend_handles_labels()\n",
    "handles2, labels2 = ax2.get_legend_handles_labels()\n",
    "ax1.legend(handles=handles1 + handles2,\n",
    "          labels=labels1 + labels2,\n",
    "          loc=\"upper left\", prop={\"size\": 12})\n",
    "\n",
    "for ax in (ax1, ax2):\n",
    "    for where in (\"top\", \"right\"):\n",
    "        ax.spines[where].set_visible(False)\n",
    "        ax.tick_params(right=False, labelright=False)"
   ]
  },
  {
   "cell_type": "markdown",
   "metadata": {},
   "source": [
    "It seems that deep learning questions was a high-growth trend since the start of DSSE and it looks like it is plateauing. There is no evidence to suggest that interest in deep learning is decreasing and so we maintain our previous idea of proposing that we create deep learning content."
   ]
  }
 ],
 "metadata": {
  "kernelspec": {
   "display_name": "Python 3",
   "language": "python",
   "name": "python3"
  },
  "language_info": {
   "codemirror_mode": {
    "name": "ipython",
    "version": 3
   },
   "file_extension": ".py",
   "mimetype": "text/x-python",
   "name": "python",
   "nbconvert_exporter": "python",
   "pygments_lexer": "ipython3",
   "version": "3.4.3"
  }
 },
 "nbformat": 4,
 "nbformat_minor": 2
}
